{
 "cells": [
  {
   "cell_type": "markdown",
   "metadata": {},
   "source": [
    "# A quick introduction to throff\n",
    "\n",
    "Throff is a functional, concatenative language that runs in an interpreter.  It is technically a version of FORTH, but great effort has gone into hiding that.\n",
    "\n",
    "This worksheet gives you a quick introduction to Throff, and the most interesting features."
   ]
  },
  {
   "cell_type": "markdown",
   "metadata": {},
   "source": [
    "# Stack-based interpreter\n",
    "\n",
    "The Throff interpreter uses a stack to create and run functions.  All Throff programs run from right to left.  All arguments to all functions are strictly executed  in this order."
   ]
  },
  {
   "cell_type": "code",
   "execution_count": null,
   "metadata": {},
   "outputs": [],
   "source": [
    "MULT 2 3"
   ]
  },
  {
   "cell_type": "markdown",
   "metadata": {},
   "source": [
    "We can also load each element onto the stack, one at a time, making Throff great for interactive work"
   ]
  },
  {
   "cell_type": "code",
   "execution_count": null,
   "metadata": {},
   "outputs": [],
   "source": [
    "3"
   ]
  },
  {
   "cell_type": "code",
   "execution_count": null,
   "metadata": {},
   "outputs": [],
   "source": [
    "2"
   ]
  },
  {
   "cell_type": "code",
   "execution_count": null,
   "metadata": {},
   "outputs": [],
   "source": [
    "MULT"
   ]
  },
  {
   "cell_type": "markdown",
   "metadata": {},
   "source": [
    "Because we are using a stack, we can create partial functions, which is our form of currying, I guess."
   ]
  },
  {
   "cell_type": "code",
   "execution_count": null,
   "metadata": {},
   "outputs": [],
   "source": [
    "DEFINE DOUBLE => [ MULT 2 ]"
   ]
  },
  {
   "cell_type": "markdown",
   "metadata": {},
   "source": [
    "When DOUBLE runs, it will push \"2\" onto the stack, then call MULTIPLY on the top two elements, which will be 2 * x"
   ]
  },
  {
   "cell_type": "code",
   "execution_count": null,
   "metadata": {},
   "outputs": [],
   "source": [
    "DOUBLE 4"
   ]
  },
  {
   "cell_type": "markdown",
   "metadata": {},
   "source": [
    "# Homoiconic\n",
    "\n",
    "Throff can precisely reproduce all of data it uses, at any time."
   ]
  },
  {
   "cell_type": "code",
   "execution_count": 1,
   "metadata": {},
   "outputs": [
    {
     "data": {
      "text/plain": [
       "DOUBLE IS: MULT 2"
      ]
     },
     "execution_count": 1,
     "metadata": {},
     "output_type": "execute_result"
    }
   ],
   "source": [
    "A[ DOUBLE TOK IS: GETFUNC [ DOUBLE ] ]A                     DEFINE DOUBLE => [ MULT 2 ]"
   ]
  },
  {
   "cell_type": "markdown",
   "metadata": {},
   "source": [
    "# Functions, lambdas and arrays\n",
    "\n",
    "These are all implemented using the same data structure, and can be converted to each other easily.  Functions and lambdas are arrays of instructions, with an attached context.  And macros are just arrays of instructions.\n",
    "\n",
    "Getting hold of a function is difficult, we have to be careful not to accidentally call it by mistake.  "
   ]
  },
  {
   "cell_type": "code",
   "execution_count": null,
   "metadata": {},
   "outputs": [],
   "source": [
    "GETFUNC [ DOUBLE ]                                            DEFINE DOUBLE => [ MULT 2 ]"
   ]
  },
  {
   "cell_type": "code",
   "execution_count": null,
   "metadata": {},
   "outputs": [],
   "source": [
    "GETTYPE "
   ]
  },
  {
   "cell_type": "markdown",
   "metadata": {},
   "source": [
    "->LAMBDA turns functions into LAMBDAs, and BIND declares a variable"
   ]
  },
  {
   "cell_type": "code",
   "execution_count": null,
   "metadata": {},
   "outputs": [],
   "source": [
    "BIND DOUBLE_LAMBDA => ->LAMBDA GETFUNC [ DOUBLE ]"
   ]
  },
  {
   "cell_type": "code",
   "execution_count": null,
   "metadata": {},
   "outputs": [],
   "source": [
    "DOUBLE_LAMBDA 4"
   ]
  },
  {
   "cell_type": "markdown",
   "metadata": {},
   "source": [
    "->ARRAY turns a function or LAMBDA into an ARRAY"
   ]
  },
  {
   "cell_type": "code",
   "execution_count": null,
   "metadata": {},
   "outputs": [],
   "source": [
    "->ARRAY DOUBLE_LAMBDA"
   ]
  },
  {
   "cell_type": "markdown",
   "metadata": {},
   "source": [
    " # Perfect tail calls\n",
    " \n",
    " Due to Throff's stack based, continuation-passing style, tail calls always work, no matter how complex the function is.\n",
    " \n",
    " In many programming languages, the following code would use up all the stack space, and cause a crash.  In Throff, this works perfectly."
   ]
  },
  {
   "cell_type": "code",
   "execution_count": null,
   "metadata": {},
   "outputs": [],
   "source": [
    "tail2 100000000\n",
    "DEFINE tail1 => [ IF LESSTHAN 0 count [ tail2 count ] [ ]  : count => ]\n",
    "DEFINE tail2 => [ tail1 SUB1 count   : count => ]"
   ]
  },
  {
   "cell_type": "code",
   "execution_count": null,
   "metadata": {},
   "outputs": [],
   "source": [
    "MAP [  ] [ 1 2 3 4 ]"
   ]
  },
  {
   "cell_type": "code",
   "execution_count": null,
   "metadata": {},
   "outputs": [],
   "source": [
    " MAP2 [ STRING-CONCATENATE ] [ 1 2 3 4 ]"
   ]
  },
  {
   "cell_type": "code",
   "execution_count": null,
   "metadata": {},
   "outputs": [],
   "source": [
    "ITERATE [  PRINTLN ] [ 1 2 3 4 ]"
   ]
  },
  {
   "cell_type": "code",
   "execution_count": null,
   "metadata": {},
   "outputs": [],
   "source": [
    " ENVIRONMENTOF [ here ]"
   ]
  },
  {
   "cell_type": "code",
   "execution_count": null,
   "metadata": {},
   "outputs": [],
   "source": [
    "KEYS ENVIRONMENTOF [ here ] "
   ]
  },
  {
   "cell_type": "code",
   "execution_count": null,
   "metadata": {},
   "outputs": [],
   "source": [
    "ITERATE [  PRINTLN ] [ 1 2 3 4 ]"
   ]
  },
  {
   "cell_type": "code",
   "execution_count": null,
   "metadata": {},
   "outputs": [],
   "source": [
    ".S"
   ]
  },
  {
   "cell_type": "code",
   "execution_count": null,
   "metadata": {},
   "outputs": [],
   "source": [
    ".S HASHITERATE [  ]  ENVIRONMENTOF [ here ]"
   ]
  },
  {
   "cell_type": "code",
   "execution_count": null,
   "metadata": {},
   "outputs": [],
   "source": [
    "ITERATE [ \n",
    "    SLEEP 1000\n",
    "    IFFY R \n",
    "        [ PRINTLN R ] \n",
    "        [ ] \n",
    "    BIND R  READSOCKETLINE X \n",
    "] RANGE 0 10\n",
    "PRINTLN [ REQUEST SENT ]\n",
    "PRINTSOCKET CRLF X\n",
    "PRINTSOCKET CRLF X\n",
    "PRINTSOCKET [ GET /index.html HTTP/1.0 ] X\n",
    "BIND X OPENSOCKET EXAMPLE.COM 80"
   ]
  },
  {
   "cell_type": "code",
   "execution_count": null,
   "metadata": {},
   "outputs": [],
   "source": [
    "RANGE 0 10"
   ]
  },
  {
   "cell_type": "code",
   "execution_count": null,
   "metadata": {},
   "outputs": [],
   "source": [
    "0 10\n"
   ]
  },
  {
   "cell_type": "code",
   "execution_count": null,
   "metadata": {},
   "outputs": [],
   "source": [
    "RANGE"
   ]
  },
  {
   "cell_type": "code",
   "execution_count": null,
   "metadata": {},
   "outputs": [],
   "source": [
    "COUNTDOWN"
   ]
  },
  {
   "cell_type": "code",
   "execution_count": null,
   "metadata": {},
   "outputs": [],
   "source": [
    "GETFUNCTION ->STRING [ GETFUNC ]"
   ]
  },
  {
   "cell_type": "code",
   "execution_count": 3,
   "metadata": {},
   "outputs": [
    {
     "data": {
      "text/plain": [
       "1"
      ]
     },
     "execution_count": 3,
     "metadata": {},
     "output_type": "execute_result"
    }
   ],
   "source": [
    "MODULUS 100000 3"
   ]
  },
  {
   "cell_type": "code",
   "execution_count": 4,
   "metadata": {},
   "outputs": [
    {
     "data": {
      "text/plain": [
       "1.111111111111111111111111111111111111111111111111111111111111111111111111111113030259678909876583419189302844533238025777858763618085560822993370798178480539346215890556327175161457899398654699925243776688654851543709700667506012905505485832691192626953125"
      ]
     },
     "execution_count": 4,
     "metadata": {},
     "output_type": "execute_result"
    }
   ],
   "source": [
    "DIVIDE 10 9"
   ]
  },
  {
   "cell_type": "code",
   "execution_count": 5,
   "metadata": {},
   "outputs": [
    {
     "data": {
      "text/plain": [
       "2.807354922057604"
      ]
     },
     "execution_count": 5,
     "metadata": {},
     "output_type": "execute_result"
    }
   ],
   "source": [
    "LN 7"
   ]
  },
  {
   "cell_type": "code",
   "execution_count": 7,
   "metadata": {},
   "outputs": [
    {
     "data": {
      "text/plain": [
       "0.866025411519473"
      ]
     },
     "execution_count": 7,
     "metadata": {},
     "output_type": "execute_result"
    }
   ],
   "source": [
    "SIN DIVIDE 3.1415927 3"
   ]
  },
  {
   "cell_type": "code",
   "execution_count": null,
   "metadata": {},
   "outputs": [],
   "source": []
  }
 ],
 "metadata": {
  "kernelspec": {
   "display_name": "Throff",
   "language": "throff",
   "name": "throff-jupyter"
  },
  "language_info": {
   "codemirror_mode": "",
   "file_extension": ".quon",
   "mimetype": "",
   "name": "quon",
   "nbconvert_exporter": "",
   "pygments_lexer": "",
   "version": "devel +8f854244ad Fri Feb 1 23:43:09 2019 +0000"
  }
 },
 "nbformat": 4,
 "nbformat_minor": 2
}
